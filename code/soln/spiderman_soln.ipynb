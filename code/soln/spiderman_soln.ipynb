{
 "cells": [
  {
   "cell_type": "markdown",
   "metadata": {},
   "source": [
    "# Modeling and Simulation in Python\n",
    "\n",
    "Case study: Spider-Man\n",
    "\n",
    "Copyright 2017 Allen Downey\n",
    "\n",
    "License: [Creative Commons Attribution 4.0 International](https://creativecommons.org/licenses/by/4.0)\n"
   ]
  },
  {
   "cell_type": "code",
   "execution_count": 1,
   "metadata": {
    "collapsed": true
   },
   "outputs": [],
   "source": [
    "# Configure Jupyter so figures appear in the notebook\n",
    "%matplotlib inline\n",
    "\n",
    "# Configure Jupyter to display the assigned value after an assignment\n",
    "%config InteractiveShell.ast_node_interactivity='last_expr_or_assign'\n",
    "\n",
    "# import functions from the modsim.py module\n",
    "from modsim import *"
   ]
  },
  {
   "cell_type": "markdown",
   "metadata": {},
   "source": [
    "\n",
    "I'll start by getting the units we'll need from Pint."
   ]
  },
  {
   "cell_type": "code",
   "execution_count": 2,
   "metadata": {
    "collapsed": true
   },
   "outputs": [
    {
     "data": {
      "text/html": [
       "radian"
      ],
      "text/latex": [
       "$radian$"
      ],
      "text/plain": [
       "<Unit('radian')>"
      ]
     },
     "execution_count": 2,
     "metadata": {},
     "output_type": "execute_result"
    }
   ],
   "source": [
    "m = UNITS.meter\n",
    "s = UNITS.second\n",
    "kg = UNITS.kilogram\n",
    "N = UNITS.newton\n",
    "degree = UNITS.degree\n",
    "radian = UNITS.radian"
   ]
  },
  {
   "cell_type": "markdown",
   "metadata": {},
   "source": [
    "### Spider-Man"
   ]
  },
  {
   "cell_type": "markdown",
   "metadata": {},
   "source": [
    "In this notebook we'll develop a model of Spider-Man swinging from a springy cable of webbing attached to the top of the Empire State Building.  Initially, Spider-Man is at the top of a nearby builing, as shown in this diagram.\n",
    "\n",
    "![](diagrams/spider-man.png)\n",
    "\n",
    "The origin, `O`, is at the base of the Empire State Building.  The vector `H` represents the position where the webbing is attached to the building, relative to `O`.  The vector `P` is the position of Spider-Man relative to `O`.  And `L` is the vector from the attachment point to Spider-Man.\n",
    "\n",
    "By following the arrows from `O`, along `H`, and along `L`, we can see that \n",
    "\n",
    "`H + L = P`\n",
    "\n",
    "So we can compute `L` like this:\n",
    "\n",
    "`L = P - H`\n",
    "\n",
    "The goals of this case study are:\n",
    "\n",
    "1. Implement a model of this scenario to predict Spider-Man's trajectory.\n",
    "\n",
    "2. Choose the right time for Spider-Man to let go of the webbing in order to maximize the distance he travels before landing.\n",
    "\n",
    "3. Choose the best angle for Spider-Man to jump off the building, and let go of the webbing, to maximize range."
   ]
  },
  {
   "cell_type": "markdown",
   "metadata": {},
   "source": [
    "I'll create a `Params` object to contain the quantities we'll need:\n",
    "\n",
    "1. According to [the Spider-Man Wiki](http://spiderman.wikia.com/wiki/Peter_Parker_%28Earth-616%29), Spider-Man weighs 76 kg.\n",
    "\n",
    "2. Let's assume his terminal velocity is 60 m/s.\n",
    "\n",
    "3. The length of the web is 100 m.\n",
    "\n",
    "4. The initial angle of the web is 45 degrees to the left of straight down.\n",
    "\n",
    "5. The spring constant of the web is 40 N / m when the cord is stretched, and 0 when it's compressed.\n",
    "\n",
    "Here's a `Params` object."
   ]
  },
  {
   "cell_type": "code",
   "execution_count": 3,
   "metadata": {
    "collapsed": true
   },
   "outputs": [
    {
     "data": {
      "text/html": [
       "<div>\n",
       "<style scoped>\n",
       "    .dataframe tbody tr th:only-of-type {\n",
       "        vertical-align: middle;\n",
       "    }\n",
       "\n",
       "    .dataframe tbody tr th {\n",
       "        vertical-align: top;\n",
       "    }\n",
       "\n",
       "    .dataframe thead th {\n",
       "        text-align: right;\n",
       "    }\n",
       "</style>\n",
       "<table border=\"1\" class=\"dataframe\">\n",
       "  <thead>\n",
       "    <tr style=\"text-align: right;\">\n",
       "      <th></th>\n",
       "      <th>values</th>\n",
       "    </tr>\n",
       "  </thead>\n",
       "  <tbody>\n",
       "    <tr>\n",
       "      <th>height</th>\n",
       "      <td>381 meter</td>\n",
       "    </tr>\n",
       "    <tr>\n",
       "      <th>g</th>\n",
       "      <td>9.8 meter / second ** 2</td>\n",
       "    </tr>\n",
       "    <tr>\n",
       "      <th>mass</th>\n",
       "      <td>75 kilogram</td>\n",
       "    </tr>\n",
       "    <tr>\n",
       "      <th>area</th>\n",
       "      <td>1 meter ** 2</td>\n",
       "    </tr>\n",
       "    <tr>\n",
       "      <th>rho</th>\n",
       "      <td>1.2 kilogram / meter ** 3</td>\n",
       "    </tr>\n",
       "    <tr>\n",
       "      <th>v_term</th>\n",
       "      <td>60.0 meter / second</td>\n",
       "    </tr>\n",
       "    <tr>\n",
       "      <th>length</th>\n",
       "      <td>100 meter</td>\n",
       "    </tr>\n",
       "    <tr>\n",
       "      <th>angle</th>\n",
       "      <td>225 degree</td>\n",
       "    </tr>\n",
       "    <tr>\n",
       "      <th>k</th>\n",
       "      <td>40.0 newton / meter</td>\n",
       "    </tr>\n",
       "    <tr>\n",
       "      <th>t_0</th>\n",
       "      <td>0 second</td>\n",
       "    </tr>\n",
       "    <tr>\n",
       "      <th>t_end</th>\n",
       "      <td>30 second</td>\n",
       "    </tr>\n",
       "  </tbody>\n",
       "</table>\n",
       "</div>"
      ],
      "text/plain": [
       "height                    381 meter\n",
       "g           9.8 meter / second ** 2\n",
       "mass                    75 kilogram\n",
       "area                   1 meter ** 2\n",
       "rho       1.2 kilogram / meter ** 3\n",
       "v_term          60.0 meter / second\n",
       "length                    100 meter\n",
       "angle                    225 degree\n",
       "k               40.0 newton / meter\n",
       "t_0                        0 second\n",
       "t_end                     30 second\n",
       "dtype: object"
      ]
     },
     "execution_count": 3,
     "metadata": {},
     "output_type": "execute_result"
    }
   ],
   "source": [
    "params = Params(height = 381 * m,\n",
    "                g = 9.8 * m/s**2,\n",
    "                mass = 75 * kg,\n",
    "                area = 1 * m**2,\n",
    "                rho = 1.2 * kg/m**3,\n",
    "                v_term = 60 * m / s,\n",
    "                length = 100 * m,\n",
    "                angle = (270 - 45) * degree,\n",
    "                k = 40 * N / m,\n",
    "                t_0 = 0 * s,\n",
    "                t_end = 30 * s)"
   ]
  },
  {
   "cell_type": "markdown",
   "metadata": {},
   "source": [
    "Now here's a version of `make_system` that takes a `Params` object as a parameter.\n",
    "\n",
    "`make_system` uses the given value of `v_term` to compute the drag coefficient `C_d`."
   ]
  },
  {
   "cell_type": "code",
   "execution_count": 4,
   "metadata": {
    "collapsed": true
   },
   "outputs": [],
   "source": [
    "def make_system(params):\n",
    "    \"\"\"Makes a System object for the given conditions.\n",
    "    \n",
    "    params: Params object\n",
    "    \n",
    "    returns: System object\n",
    "    \"\"\"\n",
    "    unpack(params)\n",
    "    \n",
    "    init = State(x=P_0.x, y=P_0.y, vx=V_0.x, vy=V_0.y)\n",
    "    C_d = 2 * mass * g / (rho * area * v_term**2)    \n",
    "    \n",
    "    return System(init=init, g=g, mass=mass, rho=rho,\n",
    "                  C_d=C_d, area=area, length=length, k=k,\n",
    "                  t_0=t_0, t_end=t_end)"
   ]
  },
  {
   "cell_type": "markdown",
   "metadata": {},
   "source": [
    "Compute the initial position"
   ]
  },
  {
   "cell_type": "code",
   "execution_count": 49,
   "metadata": {},
   "outputs": [],
   "source": [
    "def compute_initial_condition(params):\n",
    "    \"\"\"Compute the initial values of L and P.\n",
    "    \"\"\"\n",
    "    unpack(params)\n",
    "    H = Vector(0, height)\n",
    "    theta = angle.to(radian)\n",
    "    x, y = pol2cart(theta, length)\n",
    "    L_0 = Vector(x, y)\n",
    "    P_0 = H + L_0\n",
    "    V_0 = Vector(0, 0) * m/s\n",
    "    \n",
    "    params.set(P_0=P_0, V_0=V_0)"
   ]
  },
  {
   "cell_type": "code",
   "execution_count": 52,
   "metadata": {},
   "outputs": [
    {
     "data": {
      "text/html": [
       "[-70.71067812 310.28932188] meter"
      ],
      "text/latex": [
       "$[-70.71067812 310.28932188] meter$"
      ],
      "text/plain": [
       "<Quantity([-70.71067812 310.28932188], 'meter')>"
      ]
     },
     "execution_count": 52,
     "metadata": {},
     "output_type": "execute_result"
    }
   ],
   "source": [
    "compute_initial_condition(params)\n",
    "params.P_0"
   ]
  },
  {
   "cell_type": "code",
   "execution_count": 53,
   "metadata": {},
   "outputs": [
    {
     "data": {
      "text/html": [
       "[0. 0.] meter/second"
      ],
      "text/latex": [
       "$[0. 0.] \\frac{meter}{second}$"
      ],
      "text/plain": [
       "<Quantity([0. 0.], 'meter / second')>"
      ]
     },
     "execution_count": 53,
     "metadata": {},
     "output_type": "execute_result"
    }
   ],
   "source": [
    "params.V_0"
   ]
  },
  {
   "cell_type": "markdown",
   "metadata": {},
   "source": [
    "Let's make a `System`"
   ]
  },
  {
   "cell_type": "code",
   "execution_count": 54,
   "metadata": {
    "collapsed": true
   },
   "outputs": [
    {
     "data": {
      "text/html": [
       "<div>\n",
       "<style scoped>\n",
       "    .dataframe tbody tr th:only-of-type {\n",
       "        vertical-align: middle;\n",
       "    }\n",
       "\n",
       "    .dataframe tbody tr th {\n",
       "        vertical-align: top;\n",
       "    }\n",
       "\n",
       "    .dataframe thead th {\n",
       "        text-align: right;\n",
       "    }\n",
       "</style>\n",
       "<table border=\"1\" class=\"dataframe\">\n",
       "  <thead>\n",
       "    <tr style=\"text-align: right;\">\n",
       "      <th></th>\n",
       "      <th>values</th>\n",
       "    </tr>\n",
       "  </thead>\n",
       "  <tbody>\n",
       "    <tr>\n",
       "      <th>init</th>\n",
       "      <td>x     -70.71067811865477 meter\n",
       "y     310.28932...</td>\n",
       "    </tr>\n",
       "    <tr>\n",
       "      <th>g</th>\n",
       "      <td>9.8 meter / second ** 2</td>\n",
       "    </tr>\n",
       "    <tr>\n",
       "      <th>mass</th>\n",
       "      <td>75 kilogram</td>\n",
       "    </tr>\n",
       "    <tr>\n",
       "      <th>rho</th>\n",
       "      <td>1.2 kilogram / meter ** 3</td>\n",
       "    </tr>\n",
       "    <tr>\n",
       "      <th>C_d</th>\n",
       "      <td>0.3402777777777778 dimensionless</td>\n",
       "    </tr>\n",
       "    <tr>\n",
       "      <th>area</th>\n",
       "      <td>1 meter ** 2</td>\n",
       "    </tr>\n",
       "    <tr>\n",
       "      <th>length</th>\n",
       "      <td>100 meter</td>\n",
       "    </tr>\n",
       "    <tr>\n",
       "      <th>k</th>\n",
       "      <td>40.0 newton / meter</td>\n",
       "    </tr>\n",
       "    <tr>\n",
       "      <th>t_0</th>\n",
       "      <td>0 second</td>\n",
       "    </tr>\n",
       "    <tr>\n",
       "      <th>t_end</th>\n",
       "      <td>30 second</td>\n",
       "    </tr>\n",
       "  </tbody>\n",
       "</table>\n",
       "</div>"
      ],
      "text/plain": [
       "init      x     -70.71067811865477 meter\n",
       "y     310.28932...\n",
       "g                                   9.8 meter / second ** 2\n",
       "mass                                            75 kilogram\n",
       "rho                               1.2 kilogram / meter ** 3\n",
       "C_d                        0.3402777777777778 dimensionless\n",
       "area                                           1 meter ** 2\n",
       "length                                            100 meter\n",
       "k                                       40.0 newton / meter\n",
       "t_0                                                0 second\n",
       "t_end                                             30 second\n",
       "dtype: object"
      ]
     },
     "execution_count": 54,
     "metadata": {},
     "output_type": "execute_result"
    }
   ],
   "source": [
    "system = make_system(params)"
   ]
  },
  {
   "cell_type": "code",
   "execution_count": 55,
   "metadata": {},
   "outputs": [
    {
     "data": {
      "text/html": [
       "<div>\n",
       "<style scoped>\n",
       "    .dataframe tbody tr th:only-of-type {\n",
       "        vertical-align: middle;\n",
       "    }\n",
       "\n",
       "    .dataframe tbody tr th {\n",
       "        vertical-align: top;\n",
       "    }\n",
       "\n",
       "    .dataframe thead th {\n",
       "        text-align: right;\n",
       "    }\n",
       "</style>\n",
       "<table border=\"1\" class=\"dataframe\">\n",
       "  <thead>\n",
       "    <tr style=\"text-align: right;\">\n",
       "      <th></th>\n",
       "      <th>values</th>\n",
       "    </tr>\n",
       "  </thead>\n",
       "  <tbody>\n",
       "    <tr>\n",
       "      <th>x</th>\n",
       "      <td>-70.71067811865477 meter</td>\n",
       "    </tr>\n",
       "    <tr>\n",
       "      <th>y</th>\n",
       "      <td>310.28932188134524 meter</td>\n",
       "    </tr>\n",
       "    <tr>\n",
       "      <th>vx</th>\n",
       "      <td>0.0 meter / second</td>\n",
       "    </tr>\n",
       "    <tr>\n",
       "      <th>vy</th>\n",
       "      <td>0.0 meter / second</td>\n",
       "    </tr>\n",
       "  </tbody>\n",
       "</table>\n",
       "</div>"
      ],
      "text/plain": [
       "x     -70.71067811865477 meter\n",
       "y     310.28932188134524 meter\n",
       "vx          0.0 meter / second\n",
       "vy          0.0 meter / second\n",
       "dtype: object"
      ]
     },
     "execution_count": 55,
     "metadata": {},
     "output_type": "execute_result"
    }
   ],
   "source": [
    "system.init"
   ]
  },
  {
   "cell_type": "markdown",
   "metadata": {},
   "source": [
    "### Drag and spring forces\n",
    "\n",
    "Here's drag force, as we saw in Chapter 22."
   ]
  },
  {
   "cell_type": "code",
   "execution_count": 57,
   "metadata": {},
   "outputs": [],
   "source": [
    "def drag_force(V, system):\n",
    "    \"\"\"Compute drag force.\n",
    "    \n",
    "    V: velocity Vector\n",
    "    system: `System` object\n",
    "    \n",
    "    returns: force Vector\n",
    "    \"\"\"\n",
    "    unpack(system)\n",
    "    mag = rho * V.mag**2 * C_d * area / 2\n",
    "    direction = -V.hat()\n",
    "    f_drag = direction * mag\n",
    "    return f_drag"
   ]
  },
  {
   "cell_type": "code",
   "execution_count": 58,
   "metadata": {},
   "outputs": [
    {
     "data": {
      "text/html": [
       "[10. 10.] meter/second"
      ],
      "text/latex": [
       "$[10. 10.] \\frac{meter}{second}$"
      ],
      "text/plain": [
       "<Quantity([10. 10.], 'meter / second')>"
      ]
     },
     "execution_count": 58,
     "metadata": {},
     "output_type": "execute_result"
    }
   ],
   "source": [
    "V_test = Vector(10, 10) * m/s"
   ]
  },
  {
   "cell_type": "code",
   "execution_count": 59,
   "metadata": {},
   "outputs": [
    {
     "data": {
      "text/html": [
       "[-28.8735269 -28.8735269] kilogram meter/second<sup>2</sup>"
      ],
      "text/latex": [
       "$[-28.8735269 -28.8735269] \\frac{kilogram \\cdot meter}{second^{2}}$"
      ],
      "text/plain": [
       "<Quantity([-28.8735269 -28.8735269], 'kilogram * meter / second ** 2')>"
      ]
     },
     "execution_count": 59,
     "metadata": {},
     "output_type": "execute_result"
    }
   ],
   "source": [
    "drag_force(V_test, system)"
   ]
  },
  {
   "cell_type": "markdown",
   "metadata": {},
   "source": [
    "And here's the 2-D version of spring force.  We saw the 1-D version in Chapter 21."
   ]
  },
  {
   "cell_type": "code",
   "execution_count": 60,
   "metadata": {},
   "outputs": [],
   "source": [
    "def spring_force(L, system):\n",
    "    \"\"\"Compute drag force.\n",
    "    \n",
    "    L: Vector representing the webbing\n",
    "    system: System object\n",
    "    \n",
    "    returns: force Vector\n",
    "    \"\"\"\n",
    "    unpack(system)\n",
    "    \n",
    "    extension = L.mag - length\n",
    "    if magnitude(extension) < 0:\n",
    "        mag = 0\n",
    "    else:\n",
    "        mag = k * extension\n",
    "        \n",
    "    direction = -L.hat()\n",
    "    f_spring = direction * mag\n",
    "    return f_spring"
   ]
  },
  {
   "cell_type": "code",
   "execution_count": 63,
   "metadata": {},
   "outputs": [
    {
     "data": {
      "text/html": [
       "[   0 -101] meter"
      ],
      "text/latex": [
       "$[   0 -101] meter$"
      ],
      "text/plain": [
       "<Quantity([   0 -101], 'meter')>"
      ]
     },
     "execution_count": 63,
     "metadata": {},
     "output_type": "execute_result"
    }
   ],
   "source": [
    "L_test = Vector(0, -system.length-1*m)"
   ]
  },
  {
   "cell_type": "code",
   "execution_count": 64,
   "metadata": {},
   "outputs": [
    {
     "data": {
      "text/html": [
       "[-0. 40.] newton"
      ],
      "text/latex": [
       "$[-0. 40.] newton$"
      ],
      "text/plain": [
       "<Quantity([-0. 40.], 'newton')>"
      ]
     },
     "execution_count": 64,
     "metadata": {},
     "output_type": "execute_result"
    }
   ],
   "source": [
    "f_spring = spring_force(L_test, system)"
   ]
  },
  {
   "cell_type": "markdown",
   "metadata": {},
   "source": [
    "Here's the slope function, including acceleration due to gravity, drag, and the spring force of the webbing."
   ]
  },
  {
   "cell_type": "code",
   "execution_count": 65,
   "metadata": {
    "collapsed": true
   },
   "outputs": [],
   "source": [
    "def slope_func(state, t, system):\n",
    "    \"\"\"Computes derivatives of the state variables.\n",
    "    \n",
    "    state: State (x, y, x velocity, y velocity)\n",
    "    t: time\n",
    "    system: System object with g, rho, C_d, area, mass\n",
    "    \n",
    "    returns: sequence (vx, vy, ax, ay)\n",
    "    \"\"\"\n",
    "    x, y, vx, vy = state\n",
    "    unpack(system)\n",
    "    \n",
    "    H = Vector(0, height)\n",
    "    P = Vector(x, y)\n",
    "    V = Vector(vx, vy)\n",
    "    L = P - H\n",
    "    \n",
    "    a_grav = Vector(0, -g)\n",
    "    a_spring = spring_force(L, system) / mass\n",
    "    a_drag = drag_force(V, system) / mass\n",
    "    \n",
    "    a = a_grav + a_drag + a_spring\n",
    "    \n",
    "    return vx, vy, a.x, a.y"
   ]
  },
  {
   "cell_type": "markdown",
   "metadata": {},
   "source": [
    "As always, let's test the slope function with the initial conditions."
   ]
  },
  {
   "cell_type": "code",
   "execution_count": 66,
   "metadata": {
    "collapsed": true
   },
   "outputs": [
    {
     "data": {
      "text/plain": [
       "(<Quantity(0.0, 'meter / second')>,\n",
       " <Quantity(0.0, 'meter / second')>,\n",
       " <Quantity(5.359248925640619e-15, 'meter / second ** 2')>,\n",
       " <Quantity(-9.799999999999995, 'meter / second ** 2')>)"
      ]
     },
     "execution_count": 66,
     "metadata": {},
     "output_type": "execute_result"
    }
   ],
   "source": [
    "slope_func(system.init, 0, system)"
   ]
  },
  {
   "cell_type": "markdown",
   "metadata": {},
   "source": [
    "And then run the simulation."
   ]
  },
  {
   "cell_type": "code",
   "execution_count": 67,
   "metadata": {
    "collapsed": true
   },
   "outputs": [
    {
     "name": "stdout",
     "output_type": "stream",
     "text": [
      "CPU times: user 1.29 s, sys: 4 ms, total: 1.3 s\n",
      "Wall time: 1.29 s\n"
     ]
    },
    {
     "data": {
      "text/html": [
       "<div>\n",
       "<style scoped>\n",
       "    .dataframe tbody tr th:only-of-type {\n",
       "        vertical-align: middle;\n",
       "    }\n",
       "\n",
       "    .dataframe tbody tr th {\n",
       "        vertical-align: top;\n",
       "    }\n",
       "\n",
       "    .dataframe thead th {\n",
       "        text-align: right;\n",
       "    }\n",
       "</style>\n",
       "<table border=\"1\" class=\"dataframe\">\n",
       "  <thead>\n",
       "    <tr style=\"text-align: right;\">\n",
       "      <th></th>\n",
       "      <th>values</th>\n",
       "    </tr>\n",
       "  </thead>\n",
       "  <tbody>\n",
       "    <tr>\n",
       "      <th>sol</th>\n",
       "      <td>None</td>\n",
       "    </tr>\n",
       "    <tr>\n",
       "      <th>t_events</th>\n",
       "      <td>[]</td>\n",
       "    </tr>\n",
       "    <tr>\n",
       "      <th>nfev</th>\n",
       "      <td>626</td>\n",
       "    </tr>\n",
       "    <tr>\n",
       "      <th>njev</th>\n",
       "      <td>0</td>\n",
       "    </tr>\n",
       "    <tr>\n",
       "      <th>nlu</th>\n",
       "      <td>0</td>\n",
       "    </tr>\n",
       "    <tr>\n",
       "      <th>status</th>\n",
       "      <td>0</td>\n",
       "    </tr>\n",
       "    <tr>\n",
       "      <th>message</th>\n",
       "      <td>The solver successfully reached the end of the...</td>\n",
       "    </tr>\n",
       "    <tr>\n",
       "      <th>success</th>\n",
       "      <td>True</td>\n",
       "    </tr>\n",
       "  </tbody>\n",
       "</table>\n",
       "</div>"
      ],
      "text/plain": [
       "sol                                                      None\n",
       "t_events                                                   []\n",
       "nfev                                                      626\n",
       "njev                                                        0\n",
       "nlu                                                         0\n",
       "status                                                      0\n",
       "message     The solver successfully reached the end of the...\n",
       "success                                                  True\n",
       "dtype: object"
      ]
     },
     "execution_count": 67,
     "metadata": {},
     "output_type": "execute_result"
    }
   ],
   "source": [
    "%time results, details = run_ode_solver(system, slope_func, max_step=0.3)\n",
    "details"
   ]
  },
  {
   "cell_type": "markdown",
   "metadata": {},
   "source": [
    "### Visualizing the results\n",
    "\n",
    "We can extract the x and y components as `Series` objects."
   ]
  },
  {
   "cell_type": "markdown",
   "metadata": {},
   "source": [
    "The simplest way to visualize the results is to plot x and y as functions of time."
   ]
  },
  {
   "cell_type": "code",
   "execution_count": 68,
   "metadata": {
    "collapsed": true
   },
   "outputs": [
    {
     "data": {
      "image/png": "[encoded data removed]",
      "text/plain": [
       "<Figure size 432x288 with 1 Axes>"
      ]
     },
     "metadata": {},
     "output_type": "display_data"
    }
   ],
   "source": [
    "def plot_position(results):\n",
    "    plot(results.x, label='x')\n",
    "    plot(results.y, label='y')\n",
    "\n",
    "    decorate(xlabel='Time (s)',\n",
    "             ylabel='Position (m)')\n",
    "    \n",
    "plot_position(results)"
   ]
  },
  {
   "cell_type": "markdown",
   "metadata": {},
   "source": [
    "We can plot the velocities the same way."
   ]
  },
  {
   "cell_type": "code",
   "execution_count": 69,
   "metadata": {
    "collapsed": true
   },
   "outputs": [
    {
     "data": {
      "image/png": "[encoded data removed]",
      "text/plain": [
       "<Figure size 432x288 with 1 Axes>"
      ]
     },
     "metadata": {},
     "output_type": "display_data"
    }
   ],
   "source": [
    "def plot_velocity(results):\n",
    "    plot(results.vx, label='vx')\n",
    "    plot(results.vy, label='vy')\n",
    "\n",
    "    decorate(xlabel='Time (s)',\n",
    "             ylabel='Velocity (m/s)')\n",
    "    \n",
    "plot_velocity(results)"
   ]
  },
  {
   "cell_type": "markdown",
   "metadata": {},
   "source": [
    "Another way to visualize the results is to plot y versus x.  The result is the trajectory through the plane of motion."
   ]
  },
  {
   "cell_type": "code",
   "execution_count": 70,
   "metadata": {
    "collapsed": true
   },
   "outputs": [
    {
     "data": {
      "image/png": "[encoded data removed]",
      "text/plain": [
       "<Figure size 432x288 with 1 Axes>"
      ]
     },
     "metadata": {},
     "output_type": "display_data"
    }
   ],
   "source": [
    "def plot_trajectory(results):\n",
    "    plot(results.x, results.y, label='trajectory')\n",
    "\n",
    "    decorate(xlabel='x position (m)',\n",
    "             ylabel='y position (m)')\n",
    "    \n",
    "plot_trajectory(results)"
   ]
  },
  {
   "cell_type": "markdown",
   "metadata": {},
   "source": [
    "### Letting go\n",
    "\n",
    "Now let's find the optimal time for Spider-Man to let go.  We have to run the simulation in two phases because the spring force changes abruptly when Spider-Man lets go, so we can't integrate through it.\n",
    "\n",
    "Here are the parameters for Phase 1, running for 9 seconds."
   ]
  },
  {
   "cell_type": "code",
   "execution_count": 22,
   "metadata": {
    "collapsed": true
   },
   "outputs": [
    {
     "name": "stdout",
     "output_type": "stream",
     "text": [
      "CPU times: user 320 ms, sys: 0 ns, total: 320 ms\n",
      "Wall time: 319 ms\n"
     ]
    },
    {
     "data": {
      "image/png": "[encoded data removed]",
      "text/plain": [
       "<Figure size 432x288 with 1 Axes>"
      ]
     },
     "metadata": {},
     "output_type": "display_data"
    }
   ],
   "source": [
    "params1 = Params(params, t_end=9*s)\n",
    "system1 = make_system(params1)\n",
    "%time results1, details1 = run_ode_solver(system1, slope_func, max_step=0.4)\n",
    "plot_trajectory(results1)"
   ]
  },
  {
   "cell_type": "markdown",
   "metadata": {},
   "source": [
    "The final conditions from Phase 1 are the initial conditions for Phase 2."
   ]
  },
  {
   "cell_type": "code",
   "execution_count": 23,
   "metadata": {},
   "outputs": [
    {
     "data": {
      "text/html": [
       "9.0 second"
      ],
      "text/latex": [
       "$9.0 second$"
      ],
      "text/plain": [
       "<Quantity(9.0, 'second')>"
      ]
     },
     "execution_count": 23,
     "metadata": {},
     "output_type": "execute_result"
    }
   ],
   "source": [
    "t_final = get_last_label(results1) * s"
   ]
  },
  {
   "cell_type": "markdown",
   "metadata": {},
   "source": [
    "Here's the position Vector."
   ]
  },
  {
   "cell_type": "code",
   "execution_count": 24,
   "metadata": {},
   "outputs": [
    {
     "data": {
      "text/html": [
       "[ 42.05516926 273.03727598] meter"
      ],
      "text/latex": [
       "$[ 42.05516926 273.03727598] meter$"
      ],
      "text/plain": [
       "<Quantity([ 42.05516926 273.03727598], 'meter')>"
      ]
     },
     "execution_count": 24,
     "metadata": {},
     "output_type": "execute_result"
    }
   ],
   "source": [
    "x, y, vx, vy = get_last_value(results1)\n",
    "P_0 = Vector(x, y) * m"
   ]
  },
  {
   "cell_type": "markdown",
   "metadata": {},
   "source": [
    "And the velocity Vector."
   ]
  },
  {
   "cell_type": "code",
   "execution_count": 25,
   "metadata": {},
   "outputs": [
    {
     "data": {
      "text/html": [
       "[14.62716281  7.96404255] meter/second"
      ],
      "text/latex": [
       "$[14.62716281  7.96404255] \\frac{meter}{second}$"
      ],
      "text/plain": [
       "<Quantity([14.62716281  7.96404255], 'meter / second')>"
      ]
     },
     "execution_count": 25,
     "metadata": {},
     "output_type": "execute_result"
    }
   ],
   "source": [
    "V_0 = Vector(vx, vy) * m/s"
   ]
  },
  {
   "cell_type": "markdown",
   "metadata": {},
   "source": [
    "Here are the parameters for Phase 2.  We can turn off the spring force by setting `k=0`, so we don't have to write a new slope function."
   ]
  },
  {
   "cell_type": "code",
   "execution_count": 26,
   "metadata": {},
   "outputs": [
    {
     "data": {
      "text/html": [
       "<div>\n",
       "<style scoped>\n",
       "    .dataframe tbody tr th:only-of-type {\n",
       "        vertical-align: middle;\n",
       "    }\n",
       "\n",
       "    .dataframe tbody tr th {\n",
       "        vertical-align: top;\n",
       "    }\n",
       "\n",
       "    .dataframe thead th {\n",
       "        text-align: right;\n",
       "    }\n",
       "</style>\n",
       "<table border=\"1\" class=\"dataframe\">\n",
       "  <thead>\n",
       "    <tr style=\"text-align: right;\">\n",
       "      <th></th>\n",
       "      <th>values</th>\n",
       "    </tr>\n",
       "  </thead>\n",
       "  <tbody>\n",
       "    <tr>\n",
       "      <th>init</th>\n",
       "      <td>x               42.05516926147856 meter\n",
       "y     ...</td>\n",
       "    </tr>\n",
       "    <tr>\n",
       "      <th>g</th>\n",
       "      <td>9.8 meter / second ** 2</td>\n",
       "    </tr>\n",
       "    <tr>\n",
       "      <th>mass</th>\n",
       "      <td>75 kilogram</td>\n",
       "    </tr>\n",
       "    <tr>\n",
       "      <th>rho</th>\n",
       "      <td>1.2 kilogram / meter ** 3</td>\n",
       "    </tr>\n",
       "    <tr>\n",
       "      <th>C_d</th>\n",
       "      <td>0.3402777777777778 dimensionless</td>\n",
       "    </tr>\n",
       "    <tr>\n",
       "      <th>area</th>\n",
       "      <td>1 meter ** 2</td>\n",
       "    </tr>\n",
       "    <tr>\n",
       "      <th>length</th>\n",
       "      <td>100 meter</td>\n",
       "    </tr>\n",
       "    <tr>\n",
       "      <th>k</th>\n",
       "      <td>0</td>\n",
       "    </tr>\n",
       "    <tr>\n",
       "      <th>t_0</th>\n",
       "      <td>9.0 second</td>\n",
       "    </tr>\n",
       "    <tr>\n",
       "      <th>t_end</th>\n",
       "      <td>19.0 second</td>\n",
       "    </tr>\n",
       "  </tbody>\n",
       "</table>\n",
       "</div>"
      ],
      "text/plain": [
       "init      x               42.05516926147856 meter\n",
       "y     ...\n",
       "g                                   9.8 meter / second ** 2\n",
       "mass                                            75 kilogram\n",
       "rho                               1.2 kilogram / meter ** 3\n",
       "C_d                        0.3402777777777778 dimensionless\n",
       "area                                           1 meter ** 2\n",
       "length                                            100 meter\n",
       "k                                                         0\n",
       "t_0                                              9.0 second\n",
       "t_end                                           19.0 second\n",
       "dtype: object"
      ]
     },
     "execution_count": 26,
     "metadata": {},
     "output_type": "execute_result"
    }
   ],
   "source": [
    "params2 = Params(params1, t_0=t_final, t_end=t_final+10*s, P_0=P_0, V_0=V_0, k=0)\n",
    "system2 = make_system(params2)"
   ]
  },
  {
   "cell_type": "markdown",
   "metadata": {},
   "source": [
    "Here's an event function that stops the simulation when Spider-Man reaches the ground."
   ]
  },
  {
   "cell_type": "code",
   "execution_count": 71,
   "metadata": {},
   "outputs": [],
   "source": [
    "def event_func(state, t, system):\n",
    "    \"\"\"Stops when y=0.\n",
    "    \n",
    "    state: State object\n",
    "    t: time\n",
    "    system: System object\n",
    "    \n",
    "    returns: height\n",
    "    \"\"\"\n",
    "    x, y, vx, xy = state\n",
    "    return y"
   ]
  },
  {
   "cell_type": "markdown",
   "metadata": {},
   "source": [
    "Run Phase 2."
   ]
  },
  {
   "cell_type": "code",
   "execution_count": 28,
   "metadata": {},
   "outputs": [
    {
     "name": "stdout",
     "output_type": "stream",
     "text": [
      "CPU times: user 348 ms, sys: 4 ms, total: 352 ms\n",
      "Wall time: 340 ms\n"
     ]
    }
   ],
   "source": [
    "%time results2, details2 = run_ode_solver(system2, slope_func, events=event_func, max_step=0.4)"
   ]
  },
  {
   "cell_type": "markdown",
   "metadata": {},
   "source": [
    "Plot the results."
   ]
  },
  {
   "cell_type": "code",
   "execution_count": 29,
   "metadata": {},
   "outputs": [
    {
     "data": {
      "image/png": "[encoded data removed]",
      "text/plain": [
       "<Figure size 432x288 with 1 Axes>"
      ]
     },
     "metadata": {},
     "output_type": "display_data"
    }
   ],
   "source": [
    "plot(results1.x, results1.y, label='Phase 1')\n",
    "plot(results2.x, results2.y, label='Phase 2')\n",
    "\n",
    "decorate(xlabel='x position (m)',\n",
    "         ylabel='y position (m)')"
   ]
  },
  {
   "cell_type": "markdown",
   "metadata": {},
   "source": [
    "Now we can gather all that into a function that takes `t_release` and `V_0`, runs both phases, and returns the results."
   ]
  },
  {
   "cell_type": "code",
   "execution_count": 72,
   "metadata": {},
   "outputs": [],
   "source": [
    "def run_two_phase(t_release, V_0, params):\n",
    "    \"\"\"Run both phases.\n",
    "    \n",
    "    t_release: time when Spider-Man lets go of the webbing\n",
    "    V_0: initial velocity\n",
    "    \"\"\"\n",
    "    params1 = Params(params, t_end=t_release, V_0=V_0)\n",
    "    system1 = make_system(params1)\n",
    "    results1, details1 = run_ode_solver(system1, slope_func, max_step=0.4)\n",
    "\n",
    "    t_final = get_last_label(results1) * s\n",
    "    x, y, vx, vy = get_last_value(results1)\n",
    "    P_0 = Vector(x, y) * m\n",
    "    V_0 = Vector(vx, vy) * m/s\n",
    "\n",
    "    params2 = Params(params1, t_0=t_final, t_end=t_final+20*s,\n",
    "                     P_0=P_0, V_0=V_0, k=0)\n",
    "    system2 = make_system(params2)\n",
    "\n",
    "    results2, details2 = run_ode_solver(system2, slope_func, events=event_func, max_step=0.4)\n",
    "\n",
    "    results = pd.concat([results1, results2])\n",
    "    return results"
   ]
  },
  {
   "cell_type": "markdown",
   "metadata": {},
   "source": [
    "And here's a test run."
   ]
  },
  {
   "cell_type": "code",
   "execution_count": 31,
   "metadata": {},
   "outputs": [
    {
     "data": {
      "text/html": [
       "143.43807371928114 meter"
      ],
      "text/latex": [
       "$143.43807371928114 meter$"
      ],
      "text/plain": [
       "<Quantity(143.43807371928114, 'meter')>"
      ]
     },
     "execution_count": 31,
     "metadata": {},
     "output_type": "execute_result"
    },
    {
     "data": {
      "image/png": "[encoded data removed]",
      "text/plain": [
       "<Figure size 432x288 with 1 Axes>"
      ]
     },
     "metadata": {},
     "output_type": "display_data"
    }
   ],
   "source": [
    "t_release = 9 * s\n",
    "V_0 = Vector(0, 0) * m/s\n",
    "\n",
    "results = run_two_phase(t_release, V_0, params)\n",
    "plot_trajectory(results)\n",
    "x_final = get_last_value(results.x) * m"
   ]
  },
  {
   "cell_type": "markdown",
   "metadata": {},
   "source": [
    "### Maximizing range\n",
    "\n",
    "To find the best value of `t_release`, we need a function that takes possible values, runs the simulation, and returns the range."
   ]
  },
  {
   "cell_type": "code",
   "execution_count": 32,
   "metadata": {},
   "outputs": [],
   "source": [
    "def range_func(t_release, params):\n",
    "    V_0 = Vector(0, 0) * m/s\n",
    "    results = run_two_phase(t_release, V_0, params)\n",
    "    x_final = get_last_value(results.x) * m\n",
    "    return x_final"
   ]
  },
  {
   "cell_type": "markdown",
   "metadata": {},
   "source": [
    "We can test it."
   ]
  },
  {
   "cell_type": "code",
   "execution_count": 33,
   "metadata": {},
   "outputs": [
    {
     "data": {
      "text/html": [
       "143.43807371928114 meter"
      ],
      "text/latex": [
       "$143.43807371928114 meter$"
      ],
      "text/plain": [
       "<Quantity(143.43807371928114, 'meter')>"
      ]
     },
     "execution_count": 33,
     "metadata": {},
     "output_type": "execute_result"
    }
   ],
   "source": [
    "range_func(9*s, params)"
   ]
  },
  {
   "cell_type": "markdown",
   "metadata": {},
   "source": [
    "And run it for a few values."
   ]
  },
  {
   "cell_type": "code",
   "execution_count": 34,
   "metadata": {},
   "outputs": [
    {
     "name": "stdout",
     "output_type": "stream",
     "text": [
      "3.0 second -22.692747959203164 meter\n",
      "6.0 second 116.08097143921458 meter\n",
      "9.0 second 143.43807371928114 meter\n",
      "12.0 second 74.59703591943536 meter\n"
     ]
    }
   ],
   "source": [
    "for t_release in linrange(3, 15, 3) * s:\n",
    "    print(t_release, range_func(t_release, params))"
   ]
  },
  {
   "cell_type": "markdown",
   "metadata": {},
   "source": [
    "Now we can use `max_bounded` to find the optimum."
   ]
  },
  {
   "cell_type": "code",
   "execution_count": 35,
   "metadata": {},
   "outputs": [
    {
     "data": {
      "text/html": [
       "<div>\n",
       "<style scoped>\n",
       "    .dataframe tbody tr th:only-of-type {\n",
       "        vertical-align: middle;\n",
       "    }\n",
       "\n",
       "    .dataframe tbody tr th {\n",
       "        vertical-align: top;\n",
       "    }\n",
       "\n",
       "    .dataframe thead th {\n",
       "        text-align: right;\n",
       "    }\n",
       "</style>\n",
       "<table border=\"1\" class=\"dataframe\">\n",
       "  <thead>\n",
       "    <tr style=\"text-align: right;\">\n",
       "      <th></th>\n",
       "      <th>values</th>\n",
       "    </tr>\n",
       "  </thead>\n",
       "  <tbody>\n",
       "    <tr>\n",
       "      <th>fun</th>\n",
       "      <td>149.50678396065007 meter</td>\n",
       "    </tr>\n",
       "    <tr>\n",
       "      <th>status</th>\n",
       "      <td>0</td>\n",
       "    </tr>\n",
       "    <tr>\n",
       "      <th>success</th>\n",
       "      <td>True</td>\n",
       "    </tr>\n",
       "    <tr>\n",
       "      <th>message</th>\n",
       "      <td>Solution found.</td>\n",
       "    </tr>\n",
       "    <tr>\n",
       "      <th>x</th>\n",
       "      <td>7.95963</td>\n",
       "    </tr>\n",
       "    <tr>\n",
       "      <th>nfev</th>\n",
       "      <td>9</td>\n",
       "    </tr>\n",
       "  </tbody>\n",
       "</table>\n",
       "</div>"
      ],
      "text/plain": [
       "fun        149.50678396065007 meter\n",
       "status                            0\n",
       "success                        True\n",
       "message             Solution found.\n",
       "x                           7.95963\n",
       "nfev                              9\n",
       "dtype: object"
      ]
     },
     "execution_count": 35,
     "metadata": {},
     "output_type": "execute_result"
    }
   ],
   "source": [
    "max_bounded(range_func, [6, 12], params)"
   ]
  },
  {
   "cell_type": "markdown",
   "metadata": {},
   "source": [
    "Finally, we can run the simulation with the optimal value."
   ]
  },
  {
   "cell_type": "code",
   "execution_count": 73,
   "metadata": {},
   "outputs": [
    {
     "data": {
      "text/html": [
       "149.4960697736888 meter"
      ],
      "text/latex": [
       "$149.4960697736888 meter$"
      ],
      "text/plain": [
       "<Quantity(149.4960697736888, 'meter')>"
      ]
     },
     "execution_count": 73,
     "metadata": {},
     "output_type": "execute_result"
    },
    {
     "data": {
      "image/png": "[encoded data removed]",
      "text/plain": [
       "<Figure size 432x288 with 1 Axes>"
      ]
     },
     "metadata": {},
     "output_type": "display_data"
    }
   ],
   "source": [
    "V_0 = Vector(0, 0) * m/s\n",
    "results = run_two_phase(8*s, V_0, params)\n",
    "plot_trajectory(results)\n",
    "x_final = get_last_value(results.x) * m"
   ]
  },
  {
   "cell_type": "markdown",
   "metadata": {},
   "source": [
    "### Taking a flying leap\n",
    "\n",
    "Now suppose Spider-Man can jump off the wall in any direction at a maximum speed of 20 meters per second.  In what direction should he jump, and what time should he let go, to maximize the distance he travels?\n",
    "\n",
    "Before you go on, think about it and see what you think the optimal angle is.\n",
    "\n",
    "Here's a new range function that takes a guess as a parameter, where `guess` is a sequence of three values: `t_release`, launch velocity, and launch angle.\n",
    "\n",
    "It computes `V_0`, runs the simulation, and returns the final `x` position."
   ]
  },
  {
   "cell_type": "code",
   "execution_count": 76,
   "metadata": {},
   "outputs": [],
   "source": [
    "def range_func2(guess, params):\n",
    "    t_release, velocity, theta = guess\n",
    "    print(t_release, velocity, theta)\n",
    "    \n",
    "    V_0 = Vector(pol2cart(theta, velocity)) * m/s\n",
    "    \n",
    "    results = run_two_phase(t_release, V_0, params)\n",
    "    x_final = get_last_value(results.x) * m\n",
    "    return -x_final"
   ]
  },
  {
   "cell_type": "markdown",
   "metadata": {},
   "source": [
    "We can test it with the conditions from the previous section."
   ]
  },
  {
   "cell_type": "code",
   "execution_count": 77,
   "metadata": {},
   "outputs": [
    {
     "name": "stdout",
     "output_type": "stream",
     "text": [
      "8 second 0.0 meter 0 radian\n"
     ]
    },
    {
     "data": {
      "text/html": [
       "-149.4960697736888 meter"
      ],
      "text/latex": [
       "$-149.4960697736888 meter$"
      ],
      "text/plain": [
       "<Quantity(-149.4960697736888, 'meter')>"
      ]
     },
     "execution_count": 77,
     "metadata": {},
     "output_type": "execute_result"
    }
   ],
   "source": [
    "x0 = 8*s, 0*m/2, 0*radian\n",
    "range_func2(x0, params)"
   ]
  },
  {
   "cell_type": "markdown",
   "metadata": {},
   "source": [
    "Now we can use `minimize` to find the optimal values for `t_release`, launch velocity, and launch angle.  It takes a while to run because it has to search a 3-D space."
   ]
  },
  {
   "cell_type": "code",
   "execution_count": 78,
   "metadata": {},
   "outputs": [
    {
     "name": "stdout",
     "output_type": "stream",
     "text": [
      "8.0 5.0 0.0\n",
      "8.00000001 5.0 0.0\n",
      "8.0 5.00000001 0.0\n",
      "8.0 5.0 1e-08\n",
      "2.6133669936898345 1.7737295492042802 -3.141592653589793\n",
      "2.6133670036898344 1.7737295492042802 -3.141592653589793\n",
      "2.6133669936898345 1.77372955920428 -3.141592653589793\n",
      "2.6133669936898345 1.7737295492042802 -3.141592643589793\n",
      "7.124272994529376 4.475491989633605 -0.5107415938145107\n",
      "7.124273004529376 4.475491989633605 -0.5107415938145107\n",
      "7.124272994529376 4.475491999633605 -0.5107415938145107\n",
      "7.124272994529376 4.475491989633605 -0.5107415838145106\n",
      "7.282687611997444 4.520676094003284 -0.543634440074854\n",
      "7.282687621997444 4.520676094003284 -0.543634440074854\n",
      "7.282687611997444 4.520676104003284 -0.543634440074854\n",
      "7.282687611997444 4.520676094003284 -0.5436344300748539\n",
      "7.441809931356356 4.434616384969265 -0.6677505205233312\n",
      "7.441809941356356 4.434616384969265 -0.6677505205233312\n",
      "7.441809931356356 4.4346163949692645 -0.6677505205233312\n",
      "7.441809931356356 4.434616384969265 -0.6677505105233311\n",
      "7.852623481537876 3.8864949812780853 -1.256142044744788\n",
      "7.852623491537876 3.8864949812780853 -1.256142044744788\n",
      "7.852623481537876 3.8864949912780853 -1.256142044744788\n",
      "7.852623481537876 3.8864949812780853 -1.256142034744788\n",
      "8.596020234731993 2.703405056179955 -2.759987210190962\n",
      "8.596020244731994 2.703405056179955 -2.759987210190962\n",
      "8.596020234731993 2.703405066179955 -2.759987210190962\n",
      "8.596020234731993 2.703405056179955 -2.759987200190962\n",
      "8.323576456600778 3.1323594022290857 -2.5122448703218607\n",
      "8.323576466600779 3.1323594022290857 -2.5122448703218607\n",
      "8.323576456600778 3.1323594122290856 -2.5122448703218607\n",
      "8.323576456600778 3.1323594022290857 -2.512244860321861\n",
      "7.935235774645063 3.850097108456469 -2.3931215378141273\n",
      "7.935235784645063 3.850097108456469 -2.3931215378141273\n",
      "7.935235774645063 3.850097118456469 -2.3931215378141273\n",
      "7.935235774645063 3.850097108456469 -2.3931215278141273\n",
      "7.77290810832975 4.33467252240397 -2.439306125078437\n",
      "7.77290811832975 4.33467252240397 -2.439306125078437\n",
      "7.77290810832975 4.33467253240397 -2.439306125078437\n",
      "7.77290810832975 4.33467252240397 -2.439306115078437\n",
      "7.684587384206332 4.841427745479601 -2.4282699114304784\n",
      "7.684587394206332 4.841427745479601 -2.4282699114304784\n",
      "7.684587384206332 4.841427755479601 -2.4282699114304784\n",
      "7.684587384206332 4.841427745479601 -2.4282699014304785\n",
      "7.015191590332345 9.263976801212863 -2.05407793407216\n",
      "7.015191600332345 9.263976801212863 -2.05407793407216\n",
      "7.015191590332345 9.263976811212864 -2.05407793407216\n",
      "7.015191590332345 9.263976801212863 -2.05407792407216\n",
      "5.390190107785736 20.0 -1.1457027642114694\n",
      "5.390190117785736 20.0 -1.1457027642114694\n",
      "5.390190107785736 20.00000001 -1.1457027642114694\n",
      "5.390190107785736 20.0 -1.1457027542114695\n",
      "6.436980196076063 13.084090819084507 -1.7308579991279638\n",
      "6.436980206076063 13.084090819084507 -1.7308579991279638\n",
      "6.436980196076063 13.084090829084507 -1.7308579991279638\n",
      "6.436980196076063 13.084090819084507 -1.7308579891279638\n",
      "5.697345051428316 20.0 -1.5121100469578497\n",
      "5.697345061428316 20.0 -1.5121100469578497\n",
      "5.697345051428316 20.00000001 -1.5121100469578497\n",
      "5.697345051428316 20.0 -1.5121100369578497\n",
      "6.264856275951618 20.0 -1.9370943900613915\n",
      "6.264856285951618 20.0 -1.9370943900613915\n",
      "6.264856275951618 20.00000001 -1.9370943900613915\n",
      "6.264856275951618 20.0 -1.9370943800613916\n",
      "6.53845917087742 20.0 -1.9712071131767281\n",
      "6.53845918087742 20.0 -1.9712071131767281\n",
      "6.53845917087742 20.00000001 -1.9712071131767281\n",
      "6.53845917087742 20.0 -1.9712071031767282\n",
      "6.846807424423326 20.0 -1.968638798858853\n",
      "6.846807434423326 20.0 -1.968638798858853\n",
      "6.846807424423326 20.00000001 -1.968638798858853\n",
      "6.846807424423326 20.0 -1.968638788858853\n",
      "6.94064741952817 20.0 -1.9859513925368686\n",
      "6.94064742952817 20.0 -1.9859513925368686\n",
      "6.94064741952817 20.00000001 -1.9859513925368686\n",
      "6.94064741952817 20.0 -1.9859513825368686\n"
     ]
    },
    {
     "data": {
      "text/html": [
       "<div>\n",
       "<style scoped>\n",
       "    .dataframe tbody tr th:only-of-type {\n",
       "        vertical-align: middle;\n",
       "    }\n",
       "\n",
       "    .dataframe tbody tr th {\n",
       "        vertical-align: top;\n",
       "    }\n",
       "\n",
       "    .dataframe thead th {\n",
       "        text-align: right;\n",
       "    }\n",
       "</style>\n",
       "<table border=\"1\" class=\"dataframe\">\n",
       "  <thead>\n",
       "    <tr style=\"text-align: right;\">\n",
       "      <th></th>\n",
       "      <th>values</th>\n",
       "    </tr>\n",
       "  </thead>\n",
       "  <tbody>\n",
       "    <tr>\n",
       "      <th>fun</th>\n",
       "      <td>-176.4897685932084 meter</td>\n",
       "    </tr>\n",
       "    <tr>\n",
       "      <th>jac</th>\n",
       "      <td>[-0.07169091986725107, -1.7895814607982174, -0...</td>\n",
       "    </tr>\n",
       "    <tr>\n",
       "      <th>nfev</th>\n",
       "      <td>76</td>\n",
       "    </tr>\n",
       "    <tr>\n",
       "      <th>nit</th>\n",
       "      <td>15</td>\n",
       "    </tr>\n",
       "    <tr>\n",
       "      <th>status</th>\n",
       "      <td>0</td>\n",
       "    </tr>\n",
       "    <tr>\n",
       "      <th>message</th>\n",
       "      <td>b'CONVERGENCE: REL_REDUCTION_OF_F_&lt;=_FACTR*EPS...</td>\n",
       "    </tr>\n",
       "    <tr>\n",
       "      <th>x</th>\n",
       "      <td>[6.94064741952817, 20.0, -1.9859513925368686]</td>\n",
       "    </tr>\n",
       "    <tr>\n",
       "      <th>success</th>\n",
       "      <td>True</td>\n",
       "    </tr>\n",
       "    <tr>\n",
       "      <th>hess_inv</th>\n",
       "      <td>&lt;3x3 LbfgsInvHessProduct with dtype=float64&gt;</td>\n",
       "    </tr>\n",
       "  </tbody>\n",
       "</table>\n",
       "</div>"
      ],
      "text/plain": [
       "fun                                  -176.4897685932084 meter\n",
       "jac         [-0.07169091986725107, -1.7895814607982174, -0...\n",
       "nfev                                                       76\n",
       "nit                                                        15\n",
       "status                                                      0\n",
       "message     b'CONVERGENCE: REL_REDUCTION_OF_F_<=_FACTR*EPS...\n",
       "x               [6.94064741952817, 20.0, -1.9859513925368686]\n",
       "success                                                  True\n",
       "hess_inv         <3x3 LbfgsInvHessProduct with dtype=float64>\n",
       "dtype: object"
      ]
     },
     "execution_count": 78,
     "metadata": {},
     "output_type": "execute_result"
    }
   ],
   "source": [
    "guess = [8, 5, 0]\n",
    "bounds = [(0,20), (0,20), (-np.pi, np.pi)]\n",
    "\n",
    "res = minimize(range_func2, guess, params, bounds=bounds)"
   ]
  },
  {
   "cell_type": "markdown",
   "metadata": {},
   "source": [
    "Here are the optimal values."
   ]
  },
  {
   "cell_type": "code",
   "execution_count": 79,
   "metadata": {},
   "outputs": [
    {
     "data": {
      "text/html": [
       "[ -8.06663657 -18.30107577] dimensionless"
      ],
      "text/latex": [
       "$[ -8.06663657 -18.30107577] dimensionless$"
      ],
      "text/plain": [
       "<Quantity([ -8.06663657 -18.30107577], 'dimensionless')>"
      ]
     },
     "execution_count": 79,
     "metadata": {},
     "output_type": "execute_result"
    }
   ],
   "source": [
    "t_release, velocity, theta = res.x\n",
    "V_0 = Vector(pol2cart(theta, velocity))"
   ]
  },
  {
   "cell_type": "markdown",
   "metadata": {},
   "source": [
    "It turns out that the best angle is down and to the left.  Not obvious."
   ]
  },
  {
   "cell_type": "code",
   "execution_count": 80,
   "metadata": {},
   "outputs": [
    {
     "data": {
      "text/html": [
       "20.0 dimensionless"
      ],
      "text/latex": [
       "$20.0 dimensionless$"
      ],
      "text/plain": [
       "<Quantity(20.0, 'dimensionless')>"
      ]
     },
     "execution_count": 80,
     "metadata": {},
     "output_type": "execute_result"
    }
   ],
   "source": [
    "V_0.mag"
   ]
  },
  {
   "cell_type": "markdown",
   "metadata": {},
   "source": [
    "Here's what the trajectory looks like with the optimal values."
   ]
  },
  {
   "cell_type": "code",
   "execution_count": 48,
   "metadata": {},
   "outputs": [
    {
     "data": {
      "text/plain": [
       "176.4897685932084"
      ]
     },
     "execution_count": 48,
     "metadata": {},
     "output_type": "execute_result"
    },
    {
     "data": {
      "image/png": "[encoded data removed]",
      "text/plain": [
       "<Figure size 432x288 with 1 Axes>"
      ]
     },
     "metadata": {},
     "output_type": "display_data"
    }
   ],
   "source": [
    "results = run_two_phase(t_release, V_0, params)\n",
    "plot_trajectory(results)\n",
    "x_final = get_last_value(results.x)"
   ]
  }
 ],
 "metadata": {
  "kernelspec": {
   "display_name": "Python 3",
   "language": "python",
   "name": "python3"
  },
  "language_info": {
   "codemirror_mode": {
    "name": "ipython",
    "version": 3
   },
   "file_extension": ".py",
   "mimetype": "text/x-python",
   "name": "python",
   "nbconvert_exporter": "python",
   "pygments_lexer": "ipython3",
   "version": "3.6.5"
  }
 },
 "nbformat": 4,
 "nbformat_minor": 2
}
