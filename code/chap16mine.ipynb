{
 "cells": [
  {
   "cell_type": "markdown",
   "metadata": {},
   "source": [
    "# Modeling and Simulation in Python\n",
    "\n",
    "Chapter 16\n",
    "\n",
    "Copyright 2017 Allen Downey\n",
    "\n",
    "License: [Creative Commons Attribution 4.0 International](https://creativecommons.org/licenses/by/4.0)\n"
   ]
  },
  {
   "cell_type": "code",
   "execution_count": 1,
   "metadata": {},
   "outputs": [],
   "source": [
    "# Configure Jupyter so figures appear in the notebook\n",
    "%matplotlib inline\n",
    "\n",
    "# Configure Jupyter to display the assigned value after an assignment\n",
    "%config InteractiveShell.ast_node_interactivity='last_expr_or_assign'\n",
    "\n",
    "# import functions from the modsim.py module\n",
    "from modsim import *"
   ]
  },
  {
   "cell_type": "markdown",
   "metadata": {},
   "source": [
    "## Code from previous notebooks"
   ]
  },
  {
   "cell_type": "code",
   "execution_count": 2,
   "metadata": {},
   "outputs": [],
   "source": [
    "def update_func(state, t, system):\n",
    "    \"\"\"Update the thermal transfer model.\n",
    "    \n",
    "    state: State (temp)\n",
    "    t: time\n",
    "    system: System object\n",
    "    \n",
    "    returns: State (temp)\n",
    "    \"\"\"\n",
    "    unpack(system)\n",
    "    \n",
    "    T = state.T\n",
    "    T += -r * (T - T_env) * dt\n",
    "    \n",
    "    return State(T=T)"
   ]
  },
  {
   "cell_type": "code",
   "execution_count": 3,
   "metadata": {},
   "outputs": [],
   "source": [
    "def run_simulation(system, update_func):\n",
    "    \"\"\"Runs a simulation of the system.\n",
    "    \n",
    "    Add a TimeFrame to the System: results\n",
    "    \n",
    "    system: System object\n",
    "    update_func: function that updates state\n",
    "    \"\"\"\n",
    "    unpack(system)\n",
    "    \n",
    "    frame = TimeFrame(columns=init.index)\n",
    "    frame.row[0] = init\n",
    "    ts = linrange(0, t_end, dt)\n",
    "    \n",
    "    for t in ts:\n",
    "        frame.row[t+dt] = update_func(frame.row[t], t, system)\n",
    "        \n",
    "    # store the final temperature in T_final\n",
    "    system.T_final = get_last_value(frame.T)\n",
    "    \n",
    "    return frame"
   ]
  },
  {
   "cell_type": "code",
   "execution_count": 4,
   "metadata": {},
   "outputs": [],
   "source": [
    "def make_system(T_init, r, volume, t_end):\n",
    "    \"\"\"Makes a System object with the given parameters.\n",
    "\n",
    "    T_init: initial temperature in degC\n",
    "    r: heat transfer rate, in 1/min\n",
    "    volume: volume of liquid in mL\n",
    "    t_end: end time of simulation\n",
    "    \n",
    "    returns: System object\n",
    "    \"\"\"\n",
    "    init = State(T=T_init)\n",
    "    \n",
    "    # T_final is used to store the final temperature.\n",
    "    # Before the simulation runs, T_final = T_init\n",
    "    T_final = T_init\n",
    "\n",
    "    T_env = 22 \n",
    "    dt = 1\n",
    "                \n",
    "    return System(locals())"
   ]
  },
  {
   "cell_type": "markdown",
   "metadata": {},
   "source": [
    "### Using `fsolve`\n",
    "\n",
    "As a simple example, let's find the roots of this function; that is, the values of `x` that make the result 0."
   ]
  },
  {
   "cell_type": "code",
   "execution_count": 5,
   "metadata": {},
   "outputs": [],
   "source": [
    "def func(x):\n",
    "    return (x-1) * (x-2) * (x-3)"
   ]
  },
  {
   "cell_type": "markdown",
   "metadata": {},
   "source": [
    "`modsim.py` provides `fsolve`, which does some error-checking and then runs `scipy.optimize.fsolve`.  The first argument is the function whose roots we want.  The second argument is an initial guess."
   ]
  },
  {
   "cell_type": "code",
   "execution_count": 6,
   "metadata": {},
   "outputs": [
    {
     "data": {
      "text/plain": [
       "array([1.])"
      ]
     },
     "execution_count": 6,
     "metadata": {},
     "output_type": "execute_result"
    }
   ],
   "source": [
    "fsolve(func, x0=0)"
   ]
  },
  {
   "cell_type": "markdown",
   "metadata": {},
   "source": [
    "Usually the root we get is the one that's closest to the initial guess."
   ]
  },
  {
   "cell_type": "code",
   "execution_count": 7,
   "metadata": {},
   "outputs": [
    {
     "data": {
      "text/plain": [
       "array([2.])"
      ]
     },
     "execution_count": 7,
     "metadata": {},
     "output_type": "execute_result"
    }
   ],
   "source": [
    "fsolve(func, 1.9)"
   ]
  },
  {
   "cell_type": "code",
   "execution_count": 8,
   "metadata": {},
   "outputs": [
    {
     "data": {
      "text/plain": [
       "array([3.])"
      ]
     },
     "execution_count": 8,
     "metadata": {},
     "output_type": "execute_result"
    }
   ],
   "source": [
    "fsolve(func, 2.9)"
   ]
  },
  {
   "cell_type": "markdown",
   "metadata": {},
   "source": [
    "But not always."
   ]
  },
  {
   "cell_type": "code",
   "execution_count": 9,
   "metadata": {},
   "outputs": [
    {
     "data": {
      "text/plain": [
       "array([3.])"
      ]
     },
     "execution_count": 9,
     "metadata": {},
     "output_type": "execute_result"
    }
   ],
   "source": [
    "fsolve(func, 1.5)"
   ]
  },
  {
   "cell_type": "markdown",
   "metadata": {},
   "source": [
    "We want to find the value of `r` that makes the final temperature 70, so we define an \"error function\" that takes `r` as a parameter and returns the difference between the final temperature and the goal."
   ]
  },
  {
   "cell_type": "code",
   "execution_count": 14,
   "metadata": {},
   "outputs": [],
   "source": [
    "def error_func1(r):\n",
    "    \"\"\"Runs a simulation and returns the `error`.\n",
    "    \n",
    "    r: heat transfer rate, in 1/min\n",
    "    \n",
    "    returns: difference between final temp and 70 C\n",
    "    \"\"\"\n",
    "    system = make_system(T_init=90, r=r, volume=300, t_end=30)\n",
    "    results = run_simulation(system, update_func)\n",
    "    print(results)\n",
    "    return system.T_final - 70"
   ]
  },
  {
   "cell_type": "markdown",
   "metadata": {},
   "source": [
    "With `r=0.01`, we end up a little too warm."
   ]
  },
  {
   "cell_type": "code",
   "execution_count": 15,
   "metadata": {},
   "outputs": [
    {
     "name": "stdout",
     "output_type": "stream",
     "text": [
      "          T\n",
      "0        90\n",
      "1     89.32\n",
      "2   88.6468\n",
      "3   87.9803\n",
      "4   87.3205\n",
      "5   86.6673\n",
      "6   86.0207\n",
      "7   85.3804\n",
      "8   84.7466\n",
      "9   84.1192\n",
      "10   83.498\n",
      "11   82.883\n",
      "12  82.2742\n",
      "13  81.6714\n",
      "14  81.0747\n",
      "15   80.484\n",
      "16  79.8991\n",
      "17  79.3201\n",
      "18  78.7469\n",
      "19  78.1795\n",
      "20  77.6177\n",
      "21  77.0615\n",
      "22  76.5109\n",
      "23  75.9658\n",
      "24  75.4261\n",
      "25  74.8919\n",
      "26  74.3629\n",
      "27  73.8393\n",
      "28  73.3209\n",
      "29  72.8077\n",
      "30  72.2996\n"
     ]
    },
    {
     "data": {
      "text/plain": [
       "2.2996253904030937"
      ]
     },
     "execution_count": 15,
     "metadata": {},
     "output_type": "execute_result"
    }
   ],
   "source": [
    "error_func1(r=0.01)"
   ]
  },
  {
   "cell_type": "markdown",
   "metadata": {},
   "source": [
    "The return value from `fsolve` is an array with a single element, the estimated value of `r`."
   ]
  },
  {
   "cell_type": "code",
   "execution_count": 16,
   "metadata": {},
   "outputs": [
    {
     "name": "stdout",
     "output_type": "stream",
     "text": [
      "          T\n",
      "0        90\n",
      "1     89.32\n",
      "2   88.6468\n",
      "3   87.9803\n",
      "4   87.3205\n",
      "5   86.6673\n",
      "6   86.0207\n",
      "7   85.3804\n",
      "8   84.7466\n",
      "9   84.1192\n",
      "10   83.498\n",
      "11   82.883\n",
      "12  82.2742\n",
      "13  81.6714\n",
      "14  81.0747\n",
      "15   80.484\n",
      "16  79.8991\n",
      "17  79.3201\n",
      "18  78.7469\n",
      "19  78.1795\n",
      "20  77.6177\n",
      "21  77.0615\n",
      "22  76.5109\n",
      "23  75.9658\n",
      "24  75.4261\n",
      "25  74.8919\n",
      "26  74.3629\n",
      "27  73.8393\n",
      "28  73.3209\n",
      "29  72.8077\n",
      "30  72.2996\n",
      "                     T\n",
      "0                   90\n",
      "1   [72.2996253904031]\n",
      "2   [72.2996253904031]\n",
      "3   [72.2996253904031]\n",
      "4   [72.2996253904031]\n",
      "5   [72.2996253904031]\n",
      "6   [72.2996253904031]\n",
      "7   [72.2996253904031]\n",
      "8   [72.2996253904031]\n",
      "9   [72.2996253904031]\n",
      "10  [72.2996253904031]\n",
      "11  [72.2996253904031]\n",
      "12  [72.2996253904031]\n",
      "13  [72.2996253904031]\n",
      "14  [72.2996253904031]\n",
      "15  [72.2996253904031]\n",
      "16  [72.2996253904031]\n",
      "17  [72.2996253904031]\n",
      "18  [72.2996253904031]\n",
      "19  [72.2996253904031]\n",
      "20  [72.2996253904031]\n",
      "21  [72.2996253904031]\n",
      "22  [72.2996253904031]\n",
      "23  [72.2996253904031]\n",
      "24  [72.2996253904031]\n",
      "25  [72.2996253904031]\n",
      "26  [72.2996253904031]\n",
      "27  [72.2996253904031]\n",
      "28  [72.2996253904031]\n",
      "29  [72.2996253904031]\n",
      "30  [72.2996253904031]\n",
      "                     T\n",
      "0                   90\n",
      "1   [72.2996253904031]\n",
      "2   [72.2996253904031]\n",
      "3   [72.2996253904031]\n",
      "4   [72.2996253904031]\n",
      "5   [72.2996253904031]\n",
      "6   [72.2996253904031]\n",
      "7   [72.2996253904031]\n",
      "8   [72.2996253904031]\n",
      "9   [72.2996253904031]\n",
      "10  [72.2996253904031]\n",
      "11  [72.2996253904031]\n",
      "12  [72.2996253904031]\n",
      "13  [72.2996253904031]\n",
      "14  [72.2996253904031]\n",
      "15  [72.2996253904031]\n",
      "16  [72.2996253904031]\n",
      "17  [72.2996253904031]\n",
      "18  [72.2996253904031]\n",
      "19  [72.2996253904031]\n",
      "20  [72.2996253904031]\n",
      "21  [72.2996253904031]\n",
      "22  [72.2996253904031]\n",
      "23  [72.2996253904031]\n",
      "24  [72.2996253904031]\n",
      "25  [72.2996253904031]\n",
      "26  [72.2996253904031]\n",
      "27  [72.2996253904031]\n",
      "28  [72.2996253904031]\n",
      "29  [72.2996253904031]\n",
      "30  [72.2996253904031]\n",
      "                     T\n",
      "0                   90\n",
      "1   [72.2996253904031]\n",
      "2   [72.2996253904031]\n",
      "3   [72.2996253904031]\n",
      "4   [72.2996253904031]\n",
      "5   [72.2996253904031]\n",
      "6   [72.2996253904031]\n",
      "7   [72.2996253904031]\n",
      "8   [72.2996253904031]\n",
      "9   [72.2996253904031]\n",
      "10  [72.2996253904031]\n",
      "11  [72.2996253904031]\n",
      "12  [72.2996253904031]\n",
      "13  [72.2996253904031]\n",
      "14  [72.2996253904031]\n",
      "15  [72.2996253904031]\n",
      "16  [72.2996253904031]\n",
      "17  [72.2996253904031]\n",
      "18  [72.2996253904031]\n",
      "19  [72.2996253904031]\n",
      "20  [72.2996253904031]\n",
      "21  [72.2996253904031]\n",
      "22  [72.2996253904031]\n",
      "23  [72.2996253904031]\n",
      "24  [72.2996253904031]\n",
      "25  [72.2996253904031]\n",
      "26  [72.2996253904031]\n",
      "27  [72.2996253904031]\n",
      "28  [72.2996253904031]\n",
      "29  [72.2996253904031]\n",
      "30  [72.2996253904031]\n",
      "                      T\n",
      "0                    90\n",
      "1   [72.29962516327497]\n",
      "2   [72.29962516327497]\n",
      "3   [72.29962516327497]\n",
      "4   [72.29962516327497]\n",
      "5   [72.29962516327497]\n",
      "6   [72.29962516327497]\n",
      "7   [72.29962516327497]\n",
      "8   [72.29962516327497]\n",
      "9   [72.29962516327497]\n",
      "10  [72.29962516327497]\n",
      "11  [72.29962516327497]\n",
      "12  [72.29962516327497]\n",
      "13  [72.29962516327497]\n",
      "14  [72.29962516327497]\n",
      "15  [72.29962516327497]\n",
      "16  [72.29962516327497]\n",
      "17  [72.29962516327497]\n",
      "18  [72.29962516327497]\n",
      "19  [72.29962516327497]\n",
      "20  [72.29962516327497]\n",
      "21  [72.29962516327497]\n",
      "22  [72.29962516327497]\n",
      "23  [72.29962516327497]\n",
      "24  [72.29962516327497]\n",
      "25  [72.29962516327497]\n",
      "26  [72.29962516327497]\n",
      "27  [72.29962516327497]\n",
      "28  [72.29962516327497]\n",
      "29  [72.29962516327497]\n",
      "30  [72.29962516327497]\n",
      "                      T\n",
      "0                    90\n",
      "1   [70.05010006905452]\n",
      "2   [70.05010006905452]\n",
      "3   [70.05010006905452]\n",
      "4   [70.05010006905452]\n",
      "5   [70.05010006905452]\n",
      "6   [70.05010006905452]\n",
      "7   [70.05010006905452]\n",
      "8   [70.05010006905452]\n",
      "9   [70.05010006905452]\n",
      "10  [70.05010006905452]\n",
      "11  [70.05010006905452]\n",
      "12  [70.05010006905452]\n",
      "13  [70.05010006905452]\n",
      "14  [70.05010006905452]\n",
      "15  [70.05010006905452]\n",
      "16  [70.05010006905452]\n",
      "17  [70.05010006905452]\n",
      "18  [70.05010006905452]\n",
      "19  [70.05010006905452]\n",
      "20  [70.05010006905452]\n",
      "21  [70.05010006905452]\n",
      "22  [70.05010006905452]\n",
      "23  [70.05010006905452]\n",
      "24  [70.05010006905452]\n",
      "25  [70.05010006905452]\n",
      "26  [70.05010006905452]\n",
      "27  [70.05010006905452]\n",
      "28  [70.05010006905452]\n",
      "29  [70.05010006905452]\n",
      "30  [70.05010006905452]\n",
      "                      T\n",
      "0                    90\n",
      "1   [70.00112417308065]\n",
      "2   [70.00112417308065]\n",
      "3   [70.00112417308065]\n",
      "4   [70.00112417308065]\n",
      "5   [70.00112417308065]\n",
      "6   [70.00112417308065]\n",
      "7   [70.00112417308065]\n",
      "8   [70.00112417308065]\n",
      "9   [70.00112417308065]\n",
      "10  [70.00112417308065]\n",
      "11  [70.00112417308065]\n",
      "12  [70.00112417308065]\n",
      "13  [70.00112417308065]\n",
      "14  [70.00112417308065]\n",
      "15  [70.00112417308065]\n",
      "16  [70.00112417308065]\n",
      "17  [70.00112417308065]\n",
      "18  [70.00112417308065]\n",
      "19  [70.00112417308065]\n",
      "20  [70.00112417308065]\n",
      "21  [70.00112417308065]\n",
      "22  [70.00112417308065]\n",
      "23  [70.00112417308065]\n",
      "24  [70.00112417308065]\n",
      "25  [70.00112417308065]\n",
      "26  [70.00112417308065]\n",
      "27  [70.00112417308065]\n",
      "28  [70.00112417308065]\n",
      "29  [70.00112417308065]\n",
      "30  [70.00112417308065]\n",
      "                      T\n",
      "0                    90\n",
      "1   [70.00000056672626]\n",
      "2   [70.00000056672626]\n",
      "3   [70.00000056672626]\n",
      "4   [70.00000056672626]\n",
      "5   [70.00000056672626]\n",
      "6   [70.00000056672626]\n",
      "7   [70.00000056672626]\n",
      "8   [70.00000056672626]\n",
      "9   [70.00000056672626]\n",
      "10  [70.00000056672626]\n",
      "11  [70.00000056672626]\n",
      "12  [70.00000056672626]\n",
      "13  [70.00000056672626]\n",
      "14  [70.00000056672626]\n",
      "15  [70.00000056672626]\n",
      "16  [70.00000056672626]\n",
      "17  [70.00000056672626]\n",
      "18  [70.00000056672626]\n",
      "19  [70.00000056672626]\n",
      "20  [70.00000056672626]\n",
      "21  [70.00000056672626]\n",
      "22  [70.00000056672626]\n",
      "23  [70.00000056672626]\n",
      "24  [70.00000056672626]\n",
      "25  [70.00000056672626]\n",
      "26  [70.00000056672626]\n",
      "27  [70.00000056672626]\n",
      "28  [70.00000056672626]\n",
      "29  [70.00000056672626]\n",
      "30  [70.00000056672626]\n",
      "                     T\n",
      "0                   90\n",
      "1   [70.0000000000064]\n",
      "2   [70.0000000000064]\n",
      "3   [70.0000000000064]\n",
      "4   [70.0000000000064]\n",
      "5   [70.0000000000064]\n",
      "6   [70.0000000000064]\n",
      "7   [70.0000000000064]\n",
      "8   [70.0000000000064]\n",
      "9   [70.0000000000064]\n",
      "10  [70.0000000000064]\n",
      "11  [70.0000000000064]\n",
      "12  [70.0000000000064]\n",
      "13  [70.0000000000064]\n",
      "14  [70.0000000000064]\n",
      "15  [70.0000000000064]\n",
      "16  [70.0000000000064]\n",
      "17  [70.0000000000064]\n",
      "18  [70.0000000000064]\n",
      "19  [70.0000000000064]\n",
      "20  [70.0000000000064]\n",
      "21  [70.0000000000064]\n",
      "22  [70.0000000000064]\n",
      "23  [70.0000000000064]\n",
      "24  [70.0000000000064]\n",
      "25  [70.0000000000064]\n",
      "26  [70.0000000000064]\n",
      "27  [70.0000000000064]\n",
      "28  [70.0000000000064]\n",
      "29  [70.0000000000064]\n",
      "30  [70.0000000000064]\n"
     ]
    },
    {
     "data": {
      "text/plain": [
       "0.011543084583973956"
      ]
     },
     "execution_count": 16,
     "metadata": {},
     "output_type": "execute_result"
    }
   ],
   "source": [
    "solution = fsolve(error_func1, 0.01)\n",
    "r_coffee = solution[0]\n",
    "r_coffee"
   ]
  },
  {
   "cell_type": "markdown",
   "metadata": {},
   "source": [
    "If we run the simulation with the estimated value of `r`, the final temperature is 70 C, as expected."
   ]
  },
  {
   "cell_type": "code",
   "execution_count": 13,
   "metadata": {},
   "outputs": [
    {
     "data": {
      "text/plain": [
       "70.0000000000064"
      ]
     },
     "execution_count": 13,
     "metadata": {},
     "output_type": "execute_result"
    }
   ],
   "source": [
    "coffee = make_system(T_init=90, r=r_coffee, volume=300, t_end=30)\n",
    "results = run_simulation(coffee, update_func)\n",
    "coffee.T_final"
   ]
  },
  {
   "cell_type": "markdown",
   "metadata": {},
   "source": [
    "**Exercise:**  When you call `fsolve`, it calls `error_func1` several times.  To see how this works, add a print statement to `error_func1` and run `fsolve` again."
   ]
  },
  {
   "cell_type": "markdown",
   "metadata": {},
   "source": [
    "**Exercise:** Repeat this process to estimate `r_milk`, given that it starts at 5 C and reaches 20 C after 15 minutes.  \n",
    "\n",
    "Before you use `fsolve`, you might want to try a few values for `r_milk` and see how close you can get by trial and error.  Here's an initial guess to get you started:"
   ]
  },
  {
   "cell_type": "code",
   "execution_count": 17,
   "metadata": {},
   "outputs": [
    {
     "data": {
      "text/plain": [
       "19.990957531606476"
      ]
     },
     "execution_count": 17,
     "metadata": {},
     "output_type": "execute_result"
    }
   ],
   "source": [
    "r_milk = 0.1327\n",
    "milk = make_system(T_init=5, t_end=15, r=r_milk, volume=50)\n",
    "results = run_simulation(milk, update_func)\n",
    "milk.T_final"
   ]
  },
  {
   "cell_type": "code",
   "execution_count": 25,
   "metadata": {},
   "outputs": [
    {
     "data": {
      "text/plain": [
       "18.499850754390966"
      ]
     },
     "execution_count": 25,
     "metadata": {},
     "output_type": "execute_result"
    }
   ],
   "source": [
    "init = State(T=5)\n",
    "\n",
    "milk = System(init=init,\n",
    "                volume=50,\n",
    "                r=0.1,\n",
    "                T_env=22,\n",
    "                t_end=15,\n",
    "                dt=1)\n",
    "\n",
    "milk = make_system(T_init=5, r=r_milk, volume=50, t_end=15)\n",
    "results = run_simulation(milk, update_func)\n",
    "milk.T_final"
   ]
  },
  {
   "cell_type": "code",
   "execution_count": 32,
   "metadata": {},
   "outputs": [],
   "source": [
    "def error_func2(r):\n",
    "    \"\"\"Runs a simulation and returns the `error`.\n",
    "    \n",
    "    r: heat transfer rate, in 1/min\n",
    "    \n",
    "    returns: difference between final temp and 70 C\n",
    "    \"\"\"\n",
    "    system = make_system(T_init=5, r=r, volume=50, t_end=15)\n",
    "    results = run_simulation(system, update_func)\n",
    "    return system.T_final - 20"
   ]
  },
  {
   "cell_type": "code",
   "execution_count": 34,
   "metadata": {},
   "outputs": [
    {
     "data": {
      "text/plain": [
       "array([-15.])"
      ]
     },
     "execution_count": 34,
     "metadata": {},
     "output_type": "execute_result"
    }
   ],
   "source": [
    "error_func2(r)"
   ]
  },
  {
   "cell_type": "code",
   "execution_count": 35,
   "metadata": {},
   "outputs": [
    {
     "data": {
      "text/plain": [
       "19.999999999999613"
      ]
     },
     "execution_count": 35,
     "metadata": {},
     "output_type": "execute_result"
    }
   ],
   "source": [
    "solution = fsolve(error_func2, 0.1)\n",
    "r_milk = solution[0]\n",
    "r_milk\n",
    "\n",
    "milk = make_system(T_init=5, t_end=15, r=r_milk, volume=50)\n",
    "results = run_simulation(milk, update_func)\n",
    "milk.T_final"
   ]
  },
  {
   "cell_type": "markdown",
   "metadata": {},
   "source": [
    "### Mixing liquids"
   ]
  },
  {
   "cell_type": "markdown",
   "metadata": {},
   "source": [
    "The following function takes `System` objects that represent two liquids, computes the temperature of the mixture, and returns a new `System` object that represents the mixture."
   ]
  },
  {
   "cell_type": "code",
   "execution_count": 36,
   "metadata": {},
   "outputs": [],
   "source": [
    "def mix(s1, s2):\n",
    "    \"\"\"Simulates the mixture of two liquids.\n",
    "    \n",
    "    s1: System representing coffee\n",
    "    s2: System representing milk\n",
    "    \n",
    "    returns: System representing the mixture\n",
    "    \"\"\"\n",
    "    assert s1.t_end == s2.t_end\n",
    "    \n",
    "    V_mix = s1.volume + s2.volume\n",
    "    \n",
    "    T_mix = (s1.volume * s1.T_final + \n",
    "             s2.volume * s2.T_final) / V_mix\n",
    "    \n",
    "    mixture = make_system(T_init=T_mix,\n",
    "                          t_end=0,\n",
    "                          r=s1.r,\n",
    "                          volume=V_mix)\n",
    "    \n",
    "    return mixture"
   ]
  },
  {
   "cell_type": "markdown",
   "metadata": {},
   "source": [
    "## Mixing at the end\n",
    "\n",
    "First we'll see what happens if we add the milk at the end.  We'll simulate the coffee and the milk separately."
   ]
  },
  {
   "cell_type": "code",
   "execution_count": 37,
   "metadata": {},
   "outputs": [
    {
     "data": {
      "text/plain": [
       "70.0000000000064"
      ]
     },
     "execution_count": 37,
     "metadata": {},
     "output_type": "execute_result"
    }
   ],
   "source": [
    "coffee = make_system(T_init=90, t_end=30, r=r_coffee, volume=300)\n",
    "coffee_results = run_simulation(coffee, update_func)\n",
    "coffee.T_final"
   ]
  },
  {
   "cell_type": "code",
   "execution_count": 38,
   "metadata": {},
   "outputs": [
    {
     "data": {
      "text/plain": [
       "21.76470588235285"
      ]
     },
     "execution_count": 38,
     "metadata": {},
     "output_type": "execute_result"
    }
   ],
   "source": [
    "milk = make_system(T_init=5, t_end=30, r=r_milk, volume=50)\n",
    "milk_results = run_simulation(milk, update_func)\n",
    "milk.T_final"
   ]
  },
  {
   "cell_type": "markdown",
   "metadata": {},
   "source": [
    "Here's what the results look like."
   ]
  },
  {
   "cell_type": "code",
   "execution_count": 39,
   "metadata": {},
   "outputs": [
    {
     "name": "stdout",
     "output_type": "stream",
     "text": [
      "Saving figure to file figs/chap07-fig01.pdf\n"
     ]
    },
    {
     "data": {
      "image/png": "[encoded data removed]",
      "text/plain": [
       "<Figure size 432x288 with 1 Axes>"
      ]
     },
     "metadata": {},
     "output_type": "display_data"
    }
   ],
   "source": [
    "plot(coffee_results.T, label='coffee')\n",
    "plot(milk_results.T, '--', label='milk')\n",
    "\n",
    "decorate(xlabel='Time (minutes)',\n",
    "         ylabel='Temperature (C)',\n",
    "         loc='center left')\n",
    "\n",
    "savefig('figs/chap07-fig01.pdf')"
   ]
  },
  {
   "cell_type": "markdown",
   "metadata": {},
   "source": [
    "Here's what happens when we mix them."
   ]
  },
  {
   "cell_type": "code",
   "execution_count": 40,
   "metadata": {},
   "outputs": [
    {
     "data": {
      "text/plain": [
       "63.10924369748446"
      ]
     },
     "execution_count": 40,
     "metadata": {},
     "output_type": "execute_result"
    }
   ],
   "source": [
    "mix_last = mix(coffee, milk)\n",
    "mix_last.T_final"
   ]
  },
  {
   "cell_type": "markdown",
   "metadata": {},
   "source": [
    "## Mixing immediately\n",
    "\n",
    "Next here's what we get if we add the milk immediately."
   ]
  },
  {
   "cell_type": "code",
   "execution_count": 41,
   "metadata": {},
   "outputs": [
    {
     "data": {
      "text/html": [
       "<div>\n",
       "<style scoped>\n",
       "    .dataframe tbody tr th:only-of-type {\n",
       "        vertical-align: middle;\n",
       "    }\n",
       "\n",
       "    .dataframe tbody tr th {\n",
       "        vertical-align: top;\n",
       "    }\n",
       "\n",
       "    .dataframe thead th {\n",
       "        text-align: right;\n",
       "    }\n",
       "</style>\n",
       "<table border=\"1\" class=\"dataframe\">\n",
       "  <thead>\n",
       "    <tr style=\"text-align: right;\">\n",
       "      <th></th>\n",
       "      <th>values</th>\n",
       "    </tr>\n",
       "  </thead>\n",
       "  <tbody>\n",
       "    <tr>\n",
       "      <th>dt</th>\n",
       "      <td>1</td>\n",
       "    </tr>\n",
       "    <tr>\n",
       "      <th>T_env</th>\n",
       "      <td>22</td>\n",
       "    </tr>\n",
       "    <tr>\n",
       "      <th>T_final</th>\n",
       "      <td>5</td>\n",
       "    </tr>\n",
       "    <tr>\n",
       "      <th>init</th>\n",
       "      <td>T    5\n",
       "dtype: int64</td>\n",
       "    </tr>\n",
       "    <tr>\n",
       "      <th>t_end</th>\n",
       "      <td>0</td>\n",
       "    </tr>\n",
       "    <tr>\n",
       "      <th>volume</th>\n",
       "      <td>50</td>\n",
       "    </tr>\n",
       "    <tr>\n",
       "      <th>r</th>\n",
       "      <td>0.132961</td>\n",
       "    </tr>\n",
       "    <tr>\n",
       "      <th>T_init</th>\n",
       "      <td>5</td>\n",
       "    </tr>\n",
       "  </tbody>\n",
       "</table>\n",
       "</div>"
      ],
      "text/plain": [
       "dt                           1\n",
       "T_env                       22\n",
       "T_final                      5\n",
       "init       T    5\n",
       "dtype: int64\n",
       "t_end                        0\n",
       "volume                      50\n",
       "r                     0.132961\n",
       "T_init                       5\n",
       "dtype: object"
      ]
     },
     "execution_count": 41,
     "metadata": {},
     "output_type": "execute_result"
    }
   ],
   "source": [
    "coffee = make_system(T_init=90, t_end=0, r=r_coffee, volume=300)\n",
    "milk = make_system(T_init=5, t_end=0, r=r_milk, volume=50)"
   ]
  },
  {
   "cell_type": "code",
   "execution_count": 42,
   "metadata": {},
   "outputs": [
    {
     "data": {
      "text/plain": [
       "61.42857142857666"
      ]
     },
     "execution_count": 42,
     "metadata": {},
     "output_type": "execute_result"
    }
   ],
   "source": [
    "mix_first = mix(coffee, milk)\n",
    "mix_first.t_end = 30\n",
    "results = run_simulation(mix_first, update_func)\n",
    "mix_first.T_final"
   ]
  },
  {
   "cell_type": "markdown",
   "metadata": {},
   "source": [
    "The following function takes `t_add`, which is the time when the milk is added, and returns the final temperature."
   ]
  },
  {
   "cell_type": "code",
   "execution_count": 43,
   "metadata": {},
   "outputs": [],
   "source": [
    "def run_and_mix(t_add, t_total):\n",
    "    \"\"\"Simulates two liquids and them mixes them at t_add.\n",
    "    \n",
    "    t_add: time in minutes\n",
    "    t_total: total time to simulate, min\n",
    "    \n",
    "    returns: final temperature\n",
    "    \"\"\"\n",
    "    coffee = make_system(T_init=90, t_end=t_add, \n",
    "                         r=r_coffee, volume=300)\n",
    "    coffee_results = run_simulation(coffee, update_func)\n",
    "\n",
    "    milk = make_system(T_init=5, t_end=t_add, \n",
    "                       r=r_milk, volume=50)\n",
    "    milk_results = run_simulation(milk, update_func)\n",
    "    \n",
    "    mixture = mix(coffee, milk)\n",
    "    mixture.t_end = t_total - t_add\n",
    "    results = run_simulation(mixture, update_func)\n",
    "\n",
    "    return mixture.T_final"
   ]
  },
  {
   "cell_type": "markdown",
   "metadata": {},
   "source": [
    "We can try it out with a few values."
   ]
  },
  {
   "cell_type": "code",
   "execution_count": 44,
   "metadata": {},
   "outputs": [
    {
     "data": {
      "text/plain": [
       "61.42857142857666"
      ]
     },
     "execution_count": 44,
     "metadata": {},
     "output_type": "execute_result"
    }
   ],
   "source": [
    "run_and_mix(t_add=0, t_total=30)"
   ]
  },
  {
   "cell_type": "code",
   "execution_count": 45,
   "metadata": {},
   "outputs": [
    {
     "data": {
      "text/plain": [
       "62.90280912845778"
      ]
     },
     "execution_count": 45,
     "metadata": {},
     "output_type": "execute_result"
    }
   ],
   "source": [
    "run_and_mix(t_add=15, t_total=30)"
   ]
  },
  {
   "cell_type": "code",
   "execution_count": 46,
   "metadata": {},
   "outputs": [
    {
     "data": {
      "text/plain": [
       "63.10924369748446"
      ]
     },
     "execution_count": 46,
     "metadata": {},
     "output_type": "execute_result"
    }
   ],
   "source": [
    "run_and_mix(t_add=30, t_total=30)"
   ]
  },
  {
   "cell_type": "markdown",
   "metadata": {},
   "source": [
    "And then sweep a range of values for `t_add`"
   ]
  },
  {
   "cell_type": "code",
   "execution_count": 47,
   "metadata": {},
   "outputs": [],
   "source": [
    "sweep = SweepSeries()\n",
    "for t_add in linspace(0, 30, 11):\n",
    "    sweep[t_add] = run_and_mix(t_add, 30)"
   ]
  },
  {
   "cell_type": "markdown",
   "metadata": {},
   "source": [
    "Here's what the result looks like."
   ]
  },
  {
   "cell_type": "code",
   "execution_count": 48,
   "metadata": {},
   "outputs": [
    {
     "name": "stdout",
     "output_type": "stream",
     "text": [
      "Saving figure to file figs/chap07-fig02.pdf\n"
     ]
    },
    {
     "data": {
      "image/png": "[encoded data removed]",
      "text/plain": [
       "<Figure size 432x288 with 1 Axes>"
      ]
     },
     "metadata": {},
     "output_type": "display_data"
    }
   ],
   "source": [
    "plot(sweep, label='final temp', color='C2')\n",
    "decorate(xlabel='Time added (min)',\n",
    "         ylabel='Final temperature (C)')\n",
    "\n",
    "savefig('figs/chap07-fig02.pdf')"
   ]
  },
  {
   "cell_type": "markdown",
   "metadata": {},
   "source": [
    "### Analysis"
   ]
  },
  {
   "cell_type": "markdown",
   "metadata": {},
   "source": [
    "Now we can use the analytic result to compute temperature as a function of time.  The following function is similar to `run_simulation`."
   ]
  },
  {
   "cell_type": "code",
   "execution_count": 49,
   "metadata": {},
   "outputs": [],
   "source": [
    "def run_analysis(system):\n",
    "    \"\"\"Computes temperature using the analytic solution.\n",
    "        \n",
    "    system: System object\n",
    "    \n",
    "    returns: TimeFrame\n",
    "    \"\"\"\n",
    "    unpack(system)\n",
    "    \n",
    "    T_init = init.T    \n",
    "    ts = linrange(0, t_end, dt)\n",
    "    \n",
    "    T_array = T_env + (T_init - T_env) * exp(-r * ts)\n",
    "    \n",
    "    # to be consistent with run_simulation, we have to\n",
    "    # put the array into a TimeFrame\n",
    "    results = TimeFrame(T_array, index=ts, columns=['T'])\n",
    "    system.T_final = get_last_value(results.T)\n",
    "\n",
    "    return results"
   ]
  },
  {
   "cell_type": "markdown",
   "metadata": {},
   "source": [
    "Here's how we run it.  From the analysis (see `chap14analysis.ipynb`), we have the computed value of `r_coffee2`"
   ]
  },
  {
   "cell_type": "code",
   "execution_count": 50,
   "metadata": {},
   "outputs": [
    {
     "data": {
      "text/plain": [
       "70.56053840222036"
      ]
     },
     "execution_count": 50,
     "metadata": {},
     "output_type": "execute_result"
    }
   ],
   "source": [
    "r_coffee2 = 0.011610223142273859\n",
    "coffee2 = make_system(T_init=90, r=r_coffee2, volume=300, t_end=30)\n",
    "results = run_analysis(coffee2)\n",
    "coffee2.T_final"
   ]
  },
  {
   "cell_type": "markdown",
   "metadata": {},
   "source": [
    "And we can compare to the results from simulation."
   ]
  },
  {
   "cell_type": "code",
   "execution_count": 51,
   "metadata": {},
   "outputs": [
    {
     "data": {
      "text/plain": [
       "70.0000000000064"
      ]
     },
     "execution_count": 51,
     "metadata": {},
     "output_type": "execute_result"
    }
   ],
   "source": [
    "coffee = make_system(T_init=90, r=r_coffee, volume=300, t_end=30)\n",
    "results = run_simulation(coffee, update_func)\n",
    "coffee.T_final"
   ]
  },
  {
   "cell_type": "markdown",
   "metadata": {},
   "source": [
    "They are identical except for a small roundoff error."
   ]
  },
  {
   "cell_type": "code",
   "execution_count": 52,
   "metadata": {},
   "outputs": [
    {
     "data": {
      "text/plain": [
       "-0.5605384022139646"
      ]
     },
     "execution_count": 52,
     "metadata": {},
     "output_type": "execute_result"
    }
   ],
   "source": [
    "coffee.T_final - coffee2.T_final"
   ]
  },
  {
   "cell_type": "markdown",
   "metadata": {},
   "source": [
    "## Exercises\n",
    "\n",
    "**Exercise:**  Suppose the coffee shop won't let me take milk in a separate container, but I keep a bottle of milk in the refrigerator at my office.  In that case is it better to add the milk at the coffee shop, or wait until I get to the office?\n",
    "\n",
    "Hint: Think about the simplest way to represent the behavior of a refrigerator in this model.  The change you make to test this variation of the problem should be very small!"
   ]
  },
  {
   "cell_type": "code",
   "execution_count": 59,
   "metadata": {},
   "outputs": [],
   "source": [
    "def run_and_mix(t_add, t_total):\n",
    "    \"\"\"Simulates two liquids and them mixes them at t_add.\n",
    "    \n",
    "    t_add: time in minutes\n",
    "    t_total: total time to simulate, min\n",
    "    \n",
    "    returns: final temperature\n",
    "    \"\"\"\n",
    "    coffee = make_system(T_init=90, t_end=t_add, \n",
    "                         r=r_coffee, volume=300)\n",
    "    coffee_results = run_simulation(coffee, update_func)\n",
    "\n",
    "    milk = make_system(T_init=5, t_end=30, \n",
    "                       r=0, volume=50)\n",
    "    milk_results = run_simulation(milk, update_func)\n",
    "    \n",
    "    mixture = mix(coffee, milk)\n",
    "    mixture.t_end = t_total - t_add\n",
    "    results = run_simulation(mixture, update_func)\n",
    "\n",
    "    return mixture.T_final"
   ]
  },
  {
   "cell_type": "code",
   "execution_count": 60,
   "metadata": {},
   "outputs": [
    {
     "data": {
      "text/plain": [
       "60.714285714291194"
      ]
     },
     "execution_count": 60,
     "metadata": {},
     "output_type": "execute_result"
    }
   ],
   "source": [
    "run_and_mix(t_add=30, t_total=30)"
   ]
  },
  {
   "cell_type": "code",
   "execution_count": null,
   "metadata": {},
   "outputs": [],
   "source": []
  }
 ],
 "metadata": {
  "kernelspec": {
   "display_name": "Python 3",
   "language": "python",
   "name": "python3"
  },
  "language_info": {
   "codemirror_mode": {
    "name": "ipython",
    "version": 3
   },
   "file_extension": ".py",
   "mimetype": "text/x-python",
   "name": "python",
   "nbconvert_exporter": "python",
   "pygments_lexer": "ipython3",
   "version": "3.6.5"
  }
 },
 "nbformat": 4,
 "nbformat_minor": 2
}
